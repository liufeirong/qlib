{
 "cells": [
  {
   "cell_type": "code",
   "execution_count": 1,
   "id": "5de49941",
   "metadata": {},
   "outputs": [],
   "source": [
    "import pandas as pd\n",
    "import numpy as np\n",
    "def get_group_columns(df: pd.DataFrame, group: str):\n",
    "    \"\"\"\n",
    "    get a group of columns from multi-index columns DataFrame\n",
    "\n",
    "    Parameters\n",
    "    ----------\n",
    "    df : pd.DataFrame\n",
    "        with multi of columns.\n",
    "    group : str\n",
    "        the name of the feature group, i.e. the first level value of the group index.\n",
    "    \"\"\"\n",
    "    if group is None:\n",
    "        return df.columns\n",
    "    else:\n",
    "        return df.columns[df.columns.get_loc(group)]"
   ]
  },
  {
   "cell_type": "code",
   "execution_count": 2,
   "id": "5c5c36f5",
   "metadata": {},
   "outputs": [],
   "source": [
    "alphabet = np.array(list('abcdefg'))\n",
    "digits = np.array(list(range(0,10)))"
   ]
  },
  {
   "cell_type": "code",
   "execution_count": 3,
   "id": "341cbf4a",
   "metadata": {},
   "outputs": [],
   "source": [
    "avalue = alphabet[np.random.randint(0,len(alphabet),100)]\n",
    "dvalue = digits[np.random.randint(0,len(digits),100)]\n",
    "value = np.random.normal(0, 1, 100)"
   ]
  },
  {
   "cell_type": "code",
   "execution_count": 4,
   "id": "33413b35",
   "metadata": {},
   "outputs": [],
   "source": [
    "df = pd.DataFrame({'a':avalue,'d':dvalue,'v':value}).set_index(['a','d'])"
   ]
  },
  {
   "cell_type": "code",
   "execution_count": 5,
   "id": "3d35403e",
   "metadata": {},
   "outputs": [
    {
     "data": {
      "text/plain": [
       "'v'"
      ]
     },
     "execution_count": 5,
     "metadata": {},
     "output_type": "execute_result"
    }
   ],
   "source": [
    "get_group_columns(df,'v')"
   ]
  },
  {
   "cell_type": "code",
   "execution_count": 6,
   "id": "3f8a9aea",
   "metadata": {},
   "outputs": [
    {
     "data": {
      "text/html": [
       "<div>\n",
       "<style scoped>\n",
       "    .dataframe tbody tr th:only-of-type {\n",
       "        vertical-align: middle;\n",
       "    }\n",
       "\n",
       "    .dataframe tbody tr th {\n",
       "        vertical-align: top;\n",
       "    }\n",
       "\n",
       "    .dataframe thead th {\n",
       "        text-align: right;\n",
       "    }\n",
       "</style>\n",
       "<table border=\"1\" class=\"dataframe\">\n",
       "  <thead>\n",
       "    <tr style=\"text-align: right;\">\n",
       "      <th></th>\n",
       "      <th></th>\n",
       "      <th>v</th>\n",
       "    </tr>\n",
       "    <tr>\n",
       "      <th>a</th>\n",
       "      <th>d</th>\n",
       "      <th></th>\n",
       "    </tr>\n",
       "  </thead>\n",
       "  <tbody>\n",
       "    <tr>\n",
       "      <th>d</th>\n",
       "      <th>6</th>\n",
       "      <td>-0.037356</td>\n",
       "    </tr>\n",
       "    <tr>\n",
       "      <th>b</th>\n",
       "      <th>9</th>\n",
       "      <td>-0.367281</td>\n",
       "    </tr>\n",
       "    <tr>\n",
       "      <th>g</th>\n",
       "      <th>3</th>\n",
       "      <td>-0.745930</td>\n",
       "    </tr>\n",
       "    <tr>\n",
       "      <th>d</th>\n",
       "      <th>3</th>\n",
       "      <td>-1.428008</td>\n",
       "    </tr>\n",
       "    <tr>\n",
       "      <th>a</th>\n",
       "      <th>0</th>\n",
       "      <td>0.530183</td>\n",
       "    </tr>\n",
       "    <tr>\n",
       "      <th>...</th>\n",
       "      <th>...</th>\n",
       "      <td>...</td>\n",
       "    </tr>\n",
       "    <tr>\n",
       "      <th>d</th>\n",
       "      <th>6</th>\n",
       "      <td>-1.331729</td>\n",
       "    </tr>\n",
       "    <tr>\n",
       "      <th>c</th>\n",
       "      <th>2</th>\n",
       "      <td>0.276174</td>\n",
       "    </tr>\n",
       "    <tr>\n",
       "      <th>d</th>\n",
       "      <th>8</th>\n",
       "      <td>1.770959</td>\n",
       "    </tr>\n",
       "    <tr>\n",
       "      <th>f</th>\n",
       "      <th>3</th>\n",
       "      <td>-1.375453</td>\n",
       "    </tr>\n",
       "    <tr>\n",
       "      <th>e</th>\n",
       "      <th>4</th>\n",
       "      <td>0.998609</td>\n",
       "    </tr>\n",
       "  </tbody>\n",
       "</table>\n",
       "<p>100 rows × 1 columns</p>\n",
       "</div>"
      ],
      "text/plain": [
       "            v\n",
       "a d          \n",
       "d 6 -0.037356\n",
       "b 9 -0.367281\n",
       "g 3 -0.745930\n",
       "d 3 -1.428008\n",
       "a 0  0.530183\n",
       "..        ...\n",
       "d 6 -1.331729\n",
       "c 2  0.276174\n",
       "d 8  1.770959\n",
       "f 3 -1.375453\n",
       "e 4  0.998609\n",
       "\n",
       "[100 rows x 1 columns]"
      ]
     },
     "execution_count": 6,
     "metadata": {},
     "output_type": "execute_result"
    }
   ],
   "source": [
    "df"
   ]
  },
  {
   "cell_type": "code",
   "execution_count": 7,
   "id": "a477bdaf",
   "metadata": {},
   "outputs": [],
   "source": [
    "mask = np.random.rand(100)<0.1"
   ]
  },
  {
   "cell_type": "code",
   "execution_count": 8,
   "id": "100ffd41",
   "metadata": {},
   "outputs": [],
   "source": [
    "df['v'][mask] = np.nan"
   ]
  },
  {
   "cell_type": "code",
   "execution_count": 9,
   "id": "4d9a1bd7",
   "metadata": {},
   "outputs": [
    {
     "data": {
      "text/plain": [
       "'v'"
      ]
     },
     "execution_count": 9,
     "metadata": {},
     "output_type": "execute_result"
    }
   ],
   "source": [
    "get_group_columns(df, 'v')"
   ]
  },
  {
   "cell_type": "code",
   "execution_count": 10,
   "id": "5a06a267",
   "metadata": {},
   "outputs": [
    {
     "data": {
      "text/html": [
       "<div>\n",
       "<style scoped>\n",
       "    .dataframe tbody tr th:only-of-type {\n",
       "        vertical-align: middle;\n",
       "    }\n",
       "\n",
       "    .dataframe tbody tr th {\n",
       "        vertical-align: top;\n",
       "    }\n",
       "\n",
       "    .dataframe thead th {\n",
       "        text-align: right;\n",
       "    }\n",
       "</style>\n",
       "<table border=\"1\" class=\"dataframe\">\n",
       "  <thead>\n",
       "    <tr style=\"text-align: right;\">\n",
       "      <th></th>\n",
       "      <th>v</th>\n",
       "    </tr>\n",
       "    <tr>\n",
       "      <th>d</th>\n",
       "      <th></th>\n",
       "    </tr>\n",
       "  </thead>\n",
       "  <tbody>\n",
       "    <tr>\n",
       "      <th>1</th>\n",
       "      <td>0.724889</td>\n",
       "    </tr>\n",
       "    <tr>\n",
       "      <th>2</th>\n",
       "      <td>0.366817</td>\n",
       "    </tr>\n",
       "    <tr>\n",
       "      <th>0</th>\n",
       "      <td>NaN</td>\n",
       "    </tr>\n",
       "    <tr>\n",
       "      <th>6</th>\n",
       "      <td>0.146869</td>\n",
       "    </tr>\n",
       "    <tr>\n",
       "      <th>2</th>\n",
       "      <td>-1.003600</td>\n",
       "    </tr>\n",
       "    <tr>\n",
       "      <th>6</th>\n",
       "      <td>-0.075696</td>\n",
       "    </tr>\n",
       "    <tr>\n",
       "      <th>9</th>\n",
       "      <td>0.283460</td>\n",
       "    </tr>\n",
       "    <tr>\n",
       "      <th>6</th>\n",
       "      <td>0.285292</td>\n",
       "    </tr>\n",
       "    <tr>\n",
       "      <th>5</th>\n",
       "      <td>1.172986</td>\n",
       "    </tr>\n",
       "    <tr>\n",
       "      <th>7</th>\n",
       "      <td>NaN</td>\n",
       "    </tr>\n",
       "    <tr>\n",
       "      <th>4</th>\n",
       "      <td>NaN</td>\n",
       "    </tr>\n",
       "  </tbody>\n",
       "</table>\n",
       "</div>"
      ],
      "text/plain": [
       "          v\n",
       "d          \n",
       "1  0.724889\n",
       "2  0.366817\n",
       "0       NaN\n",
       "6  0.146869\n",
       "2 -1.003600\n",
       "6 -0.075696\n",
       "9  0.283460\n",
       "6  0.285292\n",
       "5  1.172986\n",
       "7       NaN\n",
       "4       NaN"
      ]
     },
     "execution_count": 10,
     "metadata": {},
     "output_type": "execute_result"
    }
   ],
   "source": [
    "df.loc(axis=0)['e']"
   ]
  },
  {
   "cell_type": "code",
   "execution_count": 5,
   "id": "b2807683-b85c-45cf-93a9-739ddb4456ed",
   "metadata": {},
   "outputs": [
    {
     "name": "stderr",
     "output_type": "stream",
     "text": [
      "[28405:MainThread](2021-05-17 22:06:14,374) INFO - qlib.Initialization - [config.py:275] - default_conf: client.\n",
      "[28405:MainThread](2021-05-17 22:06:14,379) WARNING - qlib.Initialization - [config.py:291] - redis connection failed(host=127.0.0.1 port=6379), cache will not be used!\n",
      "[28405:MainThread](2021-05-17 22:06:14,383) INFO - qlib.Initialization - [__init__.py:46] - qlib successfully initialized based on client settings.\n",
      "[28405:MainThread](2021-05-17 22:06:14,385) INFO - qlib.Initialization - [__init__.py:47] - data_path=/Users/harry/.qlib/qlib_data/qlib_cn_1d\n"
     ]
    }
   ],
   "source": [
    "import qlib\n",
    "from qlib.config import REG_CN\n",
    "provider_uri = \"~/.qlib/qlib_data/qlib_cn_1d\"  # target_dir\n",
    "qlib.init(provider_uri=provider_uri, region=REG_CN)"
   ]
  },
  {
   "cell_type": "code",
   "execution_count": 2,
   "id": "e7120a75-3a7c-49b9-9373-bcb3d3159109",
   "metadata": {},
   "outputs": [
    {
     "name": "stderr",
     "output_type": "stream",
     "text": [
      "[29879:MainThread](2021-05-18 00:24:01,795) INFO - qlib.Initialization - [config.py:275] - default_conf: client.\n",
      "[29879:MainThread](2021-05-18 00:24:01,798) WARNING - qlib.Initialization - [config.py:291] - redis connection failed(host=127.0.0.1 port=6379), cache will not be used!\n",
      "[29879:MainThread](2021-05-18 00:24:01,801) INFO - qlib.Initialization - [__init__.py:46] - qlib successfully initialized based on client settings.\n",
      "[29879:MainThread](2021-05-18 00:24:01,803) INFO - qlib.Initialization - [__init__.py:47] - data_path=/Users/harry/.qlib/qlib_data/qlib_cn_1d\n"
     ]
    },
    {
     "name": "stdout",
     "output_type": "stream",
     "text": [
      "['KMID', 'KLEN', 'KMID2', 'KUP', 'KUP2', 'KLOW', 'KLOW2', 'KSFT', 'KSFT2', 'OPEN0', 'HIGH0', 'LOW0', 'VWAP0', 'ROC5', 'ROC10', 'ROC20', 'ROC30', 'ROC60', 'MA5', 'MA10', 'MA20', 'MA30', 'MA60', 'STD5', 'STD10', 'STD20', 'STD30', 'STD60', 'BETA5', 'BETA10', 'BETA20', 'BETA30', 'BETA60', 'RSQR5', 'RSQR10', 'RSQR20', 'RSQR30', 'RSQR60', 'RESI5', 'RESI10', 'RESI20', 'RESI30', 'RESI60', 'MAX5', 'MAX10', 'MAX20', 'MAX30', 'MAX60', 'MIN5', 'MIN10', 'MIN20', 'MIN30', 'MIN60', 'QTLU5', 'QTLU10', 'QTLU20', 'QTLU30', 'QTLU60', 'QTLD5', 'QTLD10', 'QTLD20', 'QTLD30', 'QTLD60', 'RANK5', 'RANK10', 'RANK20', 'RANK30', 'RANK60', 'RSV5', 'RSV10', 'RSV20', 'RSV30', 'RSV60', 'IMAX5', 'IMAX10', 'IMAX20', 'IMAX30', 'IMAX60', 'IMIN5', 'IMIN10', 'IMIN20', 'IMIN30', 'IMIN60', 'IMXD5', 'IMXD10', 'IMXD20', 'IMXD30', 'IMXD60', 'CORR5', 'CORR10', 'CORR20', 'CORR30', 'CORR60', 'CORD5', 'CORD10', 'CORD20', 'CORD30', 'CORD60', 'CNTP5', 'CNTP10', 'CNTP20', 'CNTP30', 'CNTP60', 'CNTN5', 'CNTN10', 'CNTN20', 'CNTN30', 'CNTN60', 'CNTD5', 'CNTD10', 'CNTD20', 'CNTD30', 'CNTD60', 'SUMP5', 'SUMP10', 'SUMP20', 'SUMP30', 'SUMP60', 'SUMN5', 'SUMN10', 'SUMN20', 'SUMN30', 'SUMN60', 'SUMD5', 'SUMD10', 'SUMD20', 'SUMD30', 'SUMD60', 'VMA5', 'VMA10', 'VMA20', 'VMA30', 'VMA60', 'VSTD5', 'VSTD10', 'VSTD20', 'VSTD30', 'VSTD60', 'WVMA5', 'WVMA10', 'WVMA20', 'WVMA30', 'WVMA60', 'VSUMP5', 'VSUMP10', 'VSUMP20', 'VSUMP30', 'VSUMP60', 'VSUMN5', 'VSUMN10', 'VSUMN20', 'VSUMN30', 'VSUMN60', 'VSUMD5', 'VSUMD10', 'VSUMD20', 'VSUMD30', 'VSUMD60', 'LABEL0']\n",
      "                         LABEL0\n",
      "datetime   instrument          \n",
      "2014-11-03 SH600000   -0.007945\n",
      "           SH600008    0.001328\n",
      "           SH600009   -0.012666\n",
      "           SH600010   -0.010715\n",
      "           SH600011    0.015337\n",
      "...                         ...\n",
      "2020-07-31 SZ300498   -0.006531\n",
      "           SZ300529    0.012851\n",
      "           SZ300601    0.090264\n",
      "           SZ300628    0.004142\n",
      "           SZ300676    0.007616\n",
      "\n",
      "[411338 rows x 1 columns]\n",
      "                           KMID      KLEN     KMID2       KUP      KUP2  \\\n",
      "datetime   instrument                                                     \n",
      "2014-11-03 SH600000   -0.008779  0.017560 -0.499960  0.002927  0.166682   \n",
      "           SH600008   -0.003932  0.013106 -0.300000  0.006553  0.499998   \n",
      "           SH600009    0.030868  0.048875  0.631578  0.015434  0.315790   \n",
      "           SH600010    0.007089  0.031917  0.222116  0.007094  0.222276   \n",
      "           SH600011    0.001546  0.027821  0.055556  0.017002  0.611110   \n",
      "...                         ...       ...       ...       ...       ...   \n",
      "2020-07-31 SZ300498   -0.003356  0.023490 -0.142858  0.012164  0.517855   \n",
      "           SZ300529   -0.005420  0.046071 -0.117649  0.020325  0.441176   \n",
      "           SZ300601    0.008080  0.067009  0.120586  0.013750  0.205197   \n",
      "           SZ300628   -0.013750  0.040312 -0.341085  0.017187  0.426356   \n",
      "           SZ300676    0.012588  0.049920  0.252164  0.022708  0.454882   \n",
      "\n",
      "                           KLOW     KLOW2      KSFT     KSFT2     OPEN0  ...  \\\n",
      "datetime   instrument                                                    ...   \n",
      "2014-11-03 SH600000    0.005854  0.333358 -0.005853 -0.333284  1.008857  ...   \n",
      "           SH600008    0.002621  0.200002 -0.007864 -0.599996  1.003947  ...   \n",
      "           SH600009    0.002572  0.052632  0.018006  0.368421  0.970056  ...   \n",
      "           SH600010    0.017733  0.555608  0.017728  0.555449  0.992961  ...   \n",
      "           SH600011    0.009274  0.333334 -0.006182 -0.222220  0.998457  ...   \n",
      "...                         ...       ...       ...       ...       ...  ...   \n",
      "2020-07-31 SZ300498    0.007970  0.339287 -0.007550 -0.321425  1.003367  ...   \n",
      "           SZ300529    0.020325  0.441176 -0.005420 -0.117649  1.005450  ...   \n",
      "           SZ300601    0.045179  0.674217  0.039509  0.589605  0.991984  ...   \n",
      "           SZ300628    0.009375  0.232558 -0.021562 -0.534883  1.013942  ...   \n",
      "           SZ300676    0.014624  0.292954  0.004505  0.090237  0.987569  ...   \n",
      "\n",
      "                         VSUMN5   VSUMN10   VSUMN20   VSUMN30   VSUMN60  \\\n",
      "datetime   instrument                                                     \n",
      "2014-11-03 SH600000         NaN       NaN       NaN       NaN       NaN   \n",
      "           SH600008         NaN       NaN       NaN       NaN       NaN   \n",
      "           SH600009         NaN       NaN       NaN       NaN       NaN   \n",
      "           SH600010         NaN       NaN       NaN       NaN       NaN   \n",
      "           SH600011         NaN       NaN       NaN       NaN       NaN   \n",
      "...                         ...       ...       ...       ...       ...   \n",
      "2020-07-31 SZ300498    0.772614  0.565064  0.523422  0.489674  0.491646   \n",
      "           SZ300529    0.819752  0.597705  0.533210  0.535862  0.508948   \n",
      "           SZ300601    0.231064  0.265613  0.387342  0.425360  0.465201   \n",
      "           SZ300628    0.537052  0.510992  0.482686  0.511605  0.508130   \n",
      "           SZ300676    0.552333  0.454371  0.503348  0.501604  0.494210   \n",
      "\n",
      "                         VSUMD5   VSUMD10   VSUMD20   VSUMD30   VSUMD60  \n",
      "datetime   instrument                                                    \n",
      "2014-11-03 SH600000         NaN       NaN       NaN       NaN       NaN  \n",
      "           SH600008         NaN       NaN       NaN       NaN       NaN  \n",
      "           SH600009         NaN       NaN       NaN       NaN       NaN  \n",
      "           SH600010         NaN       NaN       NaN       NaN       NaN  \n",
      "           SH600011         NaN       NaN       NaN       NaN       NaN  \n",
      "...                         ...       ...       ...       ...       ...  \n",
      "2020-07-31 SZ300498   -0.545229 -0.130127 -0.046844  0.020651  0.016708  \n",
      "           SZ300529   -0.639504 -0.195411 -0.066420 -0.071724 -0.017895  \n",
      "           SZ300601    0.537872  0.468775  0.225316  0.149280  0.069599  \n",
      "           SZ300628   -0.074103 -0.021985  0.034628 -0.023210 -0.016260  \n",
      "           SZ300676   -0.104665  0.091257 -0.006695 -0.003208  0.011581  \n",
      "\n",
      "[411338 rows x 158 columns]\n"
     ]
    }
   ],
   "source": [
    "import warnings\n",
    "warnings.filterwarnings('ignore')\n",
    "import qlib\n",
    "from qlib.config import REG_CN\n",
    "from qlib.contrib.data.handler import Alpha158\n",
    "\n",
    "data_handler_config = {\n",
    "    \"start_time\": \"2008-01-01\",\n",
    "    \"end_time\": \"2020-08-01\",\n",
    "    \"fit_start_time\": \"2008-01-01\",\n",
    "    \"fit_end_time\": \"2014-12-31\",\n",
    "    \"instruments\": \"csi300\",\n",
    "}\n",
    "\n",
    "if __name__ == \"__main__\":\n",
    "    provider_uri = \"~/.qlib/qlib_data/qlib_cn_1d\"  # target_dir\n",
    "    qlib.init(provider_uri=provider_uri, region=REG_CN)\n",
    "    h = Alpha158(**data_handler_config)\n",
    "\n",
    "    # get all the columns of the data\n",
    "    print(h.get_cols())\n",
    "\n",
    "    # fetch all the labels\n",
    "    print(h.fetch(col_set=\"label\"))\n",
    "\n",
    "    # fetch all the features\n",
    "    print(h.fetch(col_set=\"feature\"))"
   ]
  },
  {
   "cell_type": "code",
   "execution_count": null,
   "id": "3a37f0f3-d4d2-4dfa-bc39-d57b2d58fb78",
   "metadata": {},
   "outputs": [],
   "source": []
  }
 ],
 "metadata": {
  "kernelspec": {
   "display_name": "Python 3",
   "language": "python",
   "name": "python3"
  },
  "language_info": {
   "codemirror_mode": {
    "name": "ipython",
    "version": 3
   },
   "file_extension": ".py",
   "mimetype": "text/x-python",
   "name": "python",
   "nbconvert_exporter": "python",
   "pygments_lexer": "ipython3",
   "version": "3.7.10"
  }
 },
 "nbformat": 4,
 "nbformat_minor": 5
}

{
 "cells": [
  {
   "cell_type": "code",
   "execution_count": 1,
   "id": "5de49941",
   "metadata": {},
   "outputs": [],
   "source": [
    "import pandas as pd\n",
    "import numpy as np\n",
    "def get_group_columns(df: pd.DataFrame, group: str):\n",
    "    \"\"\"\n",
    "    get a group of columns from multi-index columns DataFrame\n",
    "\n",
    "    Parameters\n",
    "    ----------\n",
    "    df : pd.DataFrame\n",
    "        with multi of columns.\n",
    "    group : str\n",
    "        the name of the feature group, i.e. the first level value of the group index.\n",
    "    \"\"\"\n",
    "    if group is None:\n",
    "        return df.columns\n",
    "    else:\n",
    "        return df.columns[df.columns.get_loc(group)]"
   ]
  },
  {
   "cell_type": "code",
   "execution_count": 2,
   "id": "5c5c36f5",
   "metadata": {},
   "outputs": [],
   "source": [
    "alphabet = np.array(list('abcdefg'))\n",
    "digits = np.array(list(range(0,10)))"
   ]
  },
  {
   "cell_type": "code",
   "execution_count": 3,
   "id": "341cbf4a",
   "metadata": {},
   "outputs": [],
   "source": [
    "avalue = alphabet[np.random.randint(0,len(alphabet),100)]\n",
    "dvalue = digits[np.random.randint(0,len(digits),100)]\n",
    "value = np.random.normal(0, 1, 100)"
   ]
  },
  {
   "cell_type": "code",
   "execution_count": 4,
   "id": "33413b35",
   "metadata": {},
   "outputs": [],
   "source": [
    "df = pd.DataFrame({'a':avalue,'d':dvalue,'v':value}).set_index(['a','d'])"
   ]
  },
  {
   "cell_type": "code",
   "execution_count": 5,
   "id": "3d35403e",
   "metadata": {},
   "outputs": [
    {
     "data": {
      "text/plain": [
       "'v'"
      ]
     },
     "execution_count": 5,
     "metadata": {},
     "output_type": "execute_result"
    }
   ],
   "source": [
    "get_group_columns(df,'v')"
   ]
  },
  {
   "cell_type": "code",
   "execution_count": 6,
   "id": "3f8a9aea",
   "metadata": {},
   "outputs": [
    {
     "data": {
      "text/html": [
       "<div>\n",
       "<style scoped>\n",
       "    .dataframe tbody tr th:only-of-type {\n",
       "        vertical-align: middle;\n",
       "    }\n",
       "\n",
       "    .dataframe tbody tr th {\n",
       "        vertical-align: top;\n",
       "    }\n",
       "\n",
       "    .dataframe thead th {\n",
       "        text-align: right;\n",
       "    }\n",
       "</style>\n",
       "<table border=\"1\" class=\"dataframe\">\n",
       "  <thead>\n",
       "    <tr style=\"text-align: right;\">\n",
       "      <th></th>\n",
       "      <th></th>\n",
       "      <th>v</th>\n",
       "    </tr>\n",
       "    <tr>\n",
       "      <th>a</th>\n",
       "      <th>d</th>\n",
       "      <th></th>\n",
       "    </tr>\n",
       "  </thead>\n",
       "  <tbody>\n",
       "    <tr>\n",
       "      <th>g</th>\n",
       "      <th>9</th>\n",
       "      <td>-0.607022</td>\n",
       "    </tr>\n",
       "    <tr>\n",
       "      <th>a</th>\n",
       "      <th>3</th>\n",
       "      <td>-2.799108</td>\n",
       "    </tr>\n",
       "    <tr>\n",
       "      <th>f</th>\n",
       "      <th>2</th>\n",
       "      <td>0.608779</td>\n",
       "    </tr>\n",
       "    <tr>\n",
       "      <th rowspan=\"2\" valign=\"top\">c</th>\n",
       "      <th>6</th>\n",
       "      <td>0.325965</td>\n",
       "    </tr>\n",
       "    <tr>\n",
       "      <th>1</th>\n",
       "      <td>0.139376</td>\n",
       "    </tr>\n",
       "    <tr>\n",
       "      <th>...</th>\n",
       "      <th>...</th>\n",
       "      <td>...</td>\n",
       "    </tr>\n",
       "    <tr>\n",
       "      <th>d</th>\n",
       "      <th>6</th>\n",
       "      <td>0.427794</td>\n",
       "    </tr>\n",
       "    <tr>\n",
       "      <th>g</th>\n",
       "      <th>1</th>\n",
       "      <td>-0.127090</td>\n",
       "    </tr>\n",
       "    <tr>\n",
       "      <th>a</th>\n",
       "      <th>9</th>\n",
       "      <td>-0.975884</td>\n",
       "    </tr>\n",
       "    <tr>\n",
       "      <th>e</th>\n",
       "      <th>6</th>\n",
       "      <td>-1.427138</td>\n",
       "    </tr>\n",
       "    <tr>\n",
       "      <th>a</th>\n",
       "      <th>9</th>\n",
       "      <td>-1.309756</td>\n",
       "    </tr>\n",
       "  </tbody>\n",
       "</table>\n",
       "<p>100 rows × 1 columns</p>\n",
       "</div>"
      ],
      "text/plain": [
       "            v\n",
       "a d          \n",
       "g 9 -0.607022\n",
       "a 3 -2.799108\n",
       "f 2  0.608779\n",
       "c 6  0.325965\n",
       "  1  0.139376\n",
       "..        ...\n",
       "d 6  0.427794\n",
       "g 1 -0.127090\n",
       "a 9 -0.975884\n",
       "e 6 -1.427138\n",
       "a 9 -1.309756\n",
       "\n",
       "[100 rows x 1 columns]"
      ]
     },
     "execution_count": 6,
     "metadata": {},
     "output_type": "execute_result"
    }
   ],
   "source": [
    "df"
   ]
  },
  {
   "cell_type": "code",
   "execution_count": 7,
   "id": "a477bdaf",
   "metadata": {},
   "outputs": [],
   "source": [
    "mask = np.random.rand(100)<0.1"
   ]
  },
  {
   "cell_type": "code",
   "execution_count": 8,
   "id": "100ffd41",
   "metadata": {},
   "outputs": [],
   "source": [
    "df['v'][mask] = np.nan"
   ]
  },
  {
   "cell_type": "code",
   "execution_count": 9,
   "id": "4d9a1bd7",
   "metadata": {},
   "outputs": [
    {
     "data": {
      "text/plain": [
       "'v'"
      ]
     },
     "execution_count": 9,
     "metadata": {},
     "output_type": "execute_result"
    }
   ],
   "source": [
    "get_group_columns(df, 'v')"
   ]
  },
  {
   "cell_type": "code",
   "execution_count": 10,
   "id": "5a06a267",
   "metadata": {},
   "outputs": [
    {
     "data": {
      "text/html": [
       "<div>\n",
       "<style scoped>\n",
       "    .dataframe tbody tr th:only-of-type {\n",
       "        vertical-align: middle;\n",
       "    }\n",
       "\n",
       "    .dataframe tbody tr th {\n",
       "        vertical-align: top;\n",
       "    }\n",
       "\n",
       "    .dataframe thead th {\n",
       "        text-align: right;\n",
       "    }\n",
       "</style>\n",
       "<table border=\"1\" class=\"dataframe\">\n",
       "  <thead>\n",
       "    <tr style=\"text-align: right;\">\n",
       "      <th></th>\n",
       "      <th>v</th>\n",
       "    </tr>\n",
       "    <tr>\n",
       "      <th>d</th>\n",
       "      <th></th>\n",
       "    </tr>\n",
       "  </thead>\n",
       "  <tbody>\n",
       "    <tr>\n",
       "      <th>1</th>\n",
       "      <td>0.724889</td>\n",
       "    </tr>\n",
       "    <tr>\n",
       "      <th>2</th>\n",
       "      <td>0.366817</td>\n",
       "    </tr>\n",
       "    <tr>\n",
       "      <th>0</th>\n",
       "      <td>NaN</td>\n",
       "    </tr>\n",
       "    <tr>\n",
       "      <th>6</th>\n",
       "      <td>0.146869</td>\n",
       "    </tr>\n",
       "    <tr>\n",
       "      <th>2</th>\n",
       "      <td>-1.003600</td>\n",
       "    </tr>\n",
       "    <tr>\n",
       "      <th>6</th>\n",
       "      <td>-0.075696</td>\n",
       "    </tr>\n",
       "    <tr>\n",
       "      <th>9</th>\n",
       "      <td>0.283460</td>\n",
       "    </tr>\n",
       "    <tr>\n",
       "      <th>6</th>\n",
       "      <td>0.285292</td>\n",
       "    </tr>\n",
       "    <tr>\n",
       "      <th>5</th>\n",
       "      <td>1.172986</td>\n",
       "    </tr>\n",
       "    <tr>\n",
       "      <th>7</th>\n",
       "      <td>NaN</td>\n",
       "    </tr>\n",
       "    <tr>\n",
       "      <th>4</th>\n",
       "      <td>NaN</td>\n",
       "    </tr>\n",
       "  </tbody>\n",
       "</table>\n",
       "</div>"
      ],
      "text/plain": [
       "          v\n",
       "d          \n",
       "1  0.724889\n",
       "2  0.366817\n",
       "0       NaN\n",
       "6  0.146869\n",
       "2 -1.003600\n",
       "6 -0.075696\n",
       "9  0.283460\n",
       "6  0.285292\n",
       "5  1.172986\n",
       "7       NaN\n",
       "4       NaN"
      ]
     },
     "execution_count": 10,
     "metadata": {},
     "output_type": "execute_result"
    }
   ],
   "source": [
    "df.loc(axis=0)['e']"
   ]
  },
  {
   "cell_type": "code",
   "execution_count": 3,
   "id": "e7120a75-3a7c-49b9-9373-bcb3d3159109",
   "metadata": {},
   "outputs": [
    {
     "name": "stderr",
     "output_type": "stream",
     "text": [
      "[29879:MainThread](2021-05-18 00:31:41,451) INFO - qlib.Initialization - [config.py:275] - default_conf: client.\n",
      "[29879:MainThread](2021-05-18 00:31:41,455) WARNING - qlib.Initialization - [config.py:291] - redis connection failed(host=127.0.0.1 port=6379), cache will not be used!\n",
      "[29879:MainThread](2021-05-18 00:31:41,460) INFO - qlib.Initialization - [__init__.py:46] - qlib successfully initialized based on client settings.\n",
      "[29879:MainThread](2021-05-18 00:31:41,462) INFO - qlib.Initialization - [__init__.py:47] - data_path=/Users/harry/.qlib/qlib_data/qlib_cn_1d\n"
     ]
    },
    {
     "name": "stdout",
     "output_type": "stream",
     "text": [
      "['KMID', 'KLEN', 'KMID2', 'KUP', 'KUP2', 'KLOW', 'KLOW2', 'KSFT', 'KSFT2', 'OPEN0', 'HIGH0', 'LOW0', 'VWAP0', 'ROC5', 'ROC10', 'ROC20', 'ROC30', 'ROC60', 'MA5', 'MA10', 'MA20', 'MA30', 'MA60', 'STD5', 'STD10', 'STD20', 'STD30', 'STD60', 'BETA5', 'BETA10', 'BETA20', 'BETA30', 'BETA60', 'RSQR5', 'RSQR10', 'RSQR20', 'RSQR30', 'RSQR60', 'RESI5', 'RESI10', 'RESI20', 'RESI30', 'RESI60', 'MAX5', 'MAX10', 'MAX20', 'MAX30', 'MAX60', 'MIN5', 'MIN10', 'MIN20', 'MIN30', 'MIN60', 'QTLU5', 'QTLU10', 'QTLU20', 'QTLU30', 'QTLU60', 'QTLD5', 'QTLD10', 'QTLD20', 'QTLD30', 'QTLD60', 'RANK5', 'RANK10', 'RANK20', 'RANK30', 'RANK60', 'RSV5', 'RSV10', 'RSV20', 'RSV30', 'RSV60', 'IMAX5', 'IMAX10', 'IMAX20', 'IMAX30', 'IMAX60', 'IMIN5', 'IMIN10', 'IMIN20', 'IMIN30', 'IMIN60', 'IMXD5', 'IMXD10', 'IMXD20', 'IMXD30', 'IMXD60', 'CORR5', 'CORR10', 'CORR20', 'CORR30', 'CORR60', 'CORD5', 'CORD10', 'CORD20', 'CORD30', 'CORD60', 'CNTP5', 'CNTP10', 'CNTP20', 'CNTP30', 'CNTP60', 'CNTN5', 'CNTN10', 'CNTN20', 'CNTN30', 'CNTN60', 'CNTD5', 'CNTD10', 'CNTD20', 'CNTD30', 'CNTD60', 'SUMP5', 'SUMP10', 'SUMP20', 'SUMP30', 'SUMP60', 'SUMN5', 'SUMN10', 'SUMN20', 'SUMN30', 'SUMN60', 'SUMD5', 'SUMD10', 'SUMD20', 'SUMD30', 'SUMD60', 'VMA5', 'VMA10', 'VMA20', 'VMA30', 'VMA60', 'VSTD5', 'VSTD10', 'VSTD20', 'VSTD30', 'VSTD60', 'WVMA5', 'WVMA10', 'WVMA20', 'WVMA30', 'WVMA60', 'VSUMP5', 'VSUMP10', 'VSUMP20', 'VSUMP30', 'VSUMP60', 'VSUMN5', 'VSUMN10', 'VSUMN20', 'VSUMN30', 'VSUMN60', 'VSUMD5', 'VSUMD10', 'VSUMD20', 'VSUMD30', 'VSUMD60', 'LABEL0']\n",
      "                         LABEL0\n",
      "datetime   instrument          \n",
      "2015-01-05 SH600000   -0.019841\n",
      "           SH600008   -0.040602\n",
      "           SH600009    0.004480\n",
      "           SH600010    0.016588\n",
      "           SH600011   -0.001100\n",
      "...                         ...\n",
      "2021-05-14 SZ300628         NaN\n",
      "           SZ300676         NaN\n",
      "2021-05-17 SH600588         NaN\n",
      "           SH603288         NaN\n",
      "           SZ002601         NaN\n",
      "\n",
      "[454157 rows x 1 columns]\n",
      "                           KMID      KLEN     KMID2       KUP      KUP2  \\\n",
      "datetime   instrument                                                     \n",
      "2015-01-05 SH600000    0.008155  0.043286  0.188392  0.011286  0.260726   \n",
      "           SH600008    0.044041  0.082901  0.531251  0.033679  0.406250   \n",
      "           SH600009    0.006373  0.044608  0.142857  0.018627  0.417583   \n",
      "           SH600010    0.063884  0.066340  0.962978  0.002456  0.037022   \n",
      "           SH600011    0.027442  0.050494  0.543480  0.010977  0.217392   \n",
      "...                         ...       ...       ...       ...       ...   \n",
      "2021-05-14 SZ300628   -0.001051  0.033360 -0.031498  0.010507  0.314961   \n",
      "           SZ300676    0.012968  0.037526  0.345574  0.013697  0.365010   \n",
      "2021-05-17 SH600588         NaN       NaN       NaN       NaN       NaN   \n",
      "           SH603288         NaN       NaN       NaN       NaN       NaN   \n",
      "           SZ002601         NaN       NaN       NaN       NaN       NaN   \n",
      "\n",
      "                           KLOW     KLOW2      KSFT     KSFT2     OPEN0  ...  \\\n",
      "datetime   instrument                                                    ...   \n",
      "2015-01-05 SH600000    0.023845  0.550881  0.020714  0.478548  0.991911  ...   \n",
      "           SH600008    0.005181  0.062499  0.015544  0.187501  0.957816  ...   \n",
      "           SH600009    0.019608  0.439560  0.007353  0.164835  0.993668  ...   \n",
      "           SH600010    0.000000  0.000000  0.061428  0.925956  0.939952  ...   \n",
      "           SH600011    0.012075  0.239129  0.028540  0.565216  0.973291  ...   \n",
      "...                         ...       ...       ...       ...       ...  ...   \n",
      "2021-05-14 SZ300628    0.021802  0.653541  0.010244  0.307082  1.001052  ...   \n",
      "           SZ300676    0.010861  0.289416  0.010131  0.269980  0.987198  ...   \n",
      "2021-05-17 SH600588         NaN       NaN       NaN       NaN       NaN  ...   \n",
      "           SH603288         NaN       NaN       NaN       NaN       NaN  ...   \n",
      "           SZ002601         NaN       NaN       NaN       NaN       NaN  ...   \n",
      "\n",
      "                         VSUMN5   VSUMN10   VSUMN20   VSUMN30   VSUMN60  \\\n",
      "datetime   instrument                                                     \n",
      "2015-01-05 SH600000    0.431293  0.493269  0.534596  0.460477  0.477826   \n",
      "           SH600008    0.534390  0.637253  0.537391  0.465414  0.469891   \n",
      "           SH600009    0.165682  0.400645  0.477603  0.462575  0.486985   \n",
      "           SH600010    0.274261  0.615322  0.558431  0.467880  0.489304   \n",
      "           SH600011    0.327143  0.431567  0.464727  0.430197  0.440911   \n",
      "...                         ...       ...       ...       ...       ...   \n",
      "2021-05-14 SZ300628    0.466247  0.469341  0.512927  0.519468  0.505391   \n",
      "           SZ300676    0.632014  0.514408  0.486164  0.493321  0.525603   \n",
      "2021-05-17 SH600588    0.396454  0.433754  0.491033  0.538953  0.509897   \n",
      "           SH603288    0.388111  0.507753  0.472894  0.538203  0.524293   \n",
      "           SZ002601    1.000000  0.589807  0.516497  0.506910  0.513144   \n",
      "\n",
      "                         VSUMD5   VSUMD10   VSUMD20   VSUMD30   VSUMD60  \n",
      "datetime   instrument                                                    \n",
      "2015-01-05 SH600000    0.137414  0.013462 -0.069193  0.079047  0.044349  \n",
      "           SH600008   -0.068780 -0.274505 -0.074782  0.069172  0.060218  \n",
      "           SH600009    0.668636  0.198711  0.044795  0.074850  0.026030  \n",
      "           SH600010    0.451477 -0.230643 -0.116862  0.064241  0.021393  \n",
      "           SH600011    0.345713  0.136865  0.070547  0.139607  0.118178  \n",
      "...                         ...       ...       ...       ...       ...  \n",
      "2021-05-14 SZ300628    0.067505  0.061318 -0.025854 -0.038937 -0.010781  \n",
      "           SZ300676   -0.264028 -0.028815  0.027673  0.013358 -0.051205  \n",
      "2021-05-17 SH600588    0.207092  0.132493  0.017934 -0.077907 -0.019793  \n",
      "           SH603288    0.223778 -0.015506  0.054213 -0.076405 -0.048587  \n",
      "           SZ002601   -1.000000 -0.179615 -0.032994 -0.013820 -0.026289  \n",
      "\n",
      "[454157 rows x 158 columns]\n"
     ]
    }
   ],
   "source": [
    "import warnings\n",
    "warnings.filterwarnings('ignore')\n",
    "import qlib\n",
    "from qlib.config import REG_CN\n",
    "from qlib.contrib.data.handler import Alpha158\n",
    "\n",
    "data_handler_config = {\n",
    "    \"start_time\": \"2015-01-01\",\n",
    "    \"end_time\": \"2021-05-17\",\n",
    "    \"fit_start_time\": \"2015-01-01\",\n",
    "    \"fit_end_time\": \"2020-12-31\",\n",
    "    \"instruments\": \"csi300\",\n",
    "}\n",
    "\n",
    "if __name__ == \"__main__\":\n",
    "    provider_uri = \"~/.qlib/qlib_data/qlib_cn_1d\"  # target_dir\n",
    "    qlib.init(provider_uri=provider_uri, region=REG_CN)\n",
    "    h = Alpha158(**data_handler_config)\n",
    "\n",
    "    # get all the columns of the data\n",
    "    print(h.get_cols())\n",
    "\n",
    "    # fetch all the labels\n",
    "    print(h.fetch(col_set=\"label\"))\n",
    "\n",
    "    # fetch all the features\n",
    "    print(h.fetch(col_set=\"feature\"))"
   ]
  },
  {
   "cell_type": "code",
   "execution_count": 7,
   "id": "3a37f0f3-d4d2-4dfa-bc39-d57b2d58fb78",
   "metadata": {},
   "outputs": [
    {
     "data": {
      "text/html": [
       "<div>\n",
       "<style scoped>\n",
       "    .dataframe tbody tr th:only-of-type {\n",
       "        vertical-align: middle;\n",
       "    }\n",
       "\n",
       "    .dataframe tbody tr th {\n",
       "        vertical-align: top;\n",
       "    }\n",
       "\n",
       "    .dataframe thead th {\n",
       "        text-align: right;\n",
       "    }\n",
       "</style>\n",
       "<table border=\"1\" class=\"dataframe\">\n",
       "  <thead>\n",
       "    <tr style=\"text-align: right;\">\n",
       "      <th></th>\n",
       "      <th></th>\n",
       "      <th>LABEL0</th>\n",
       "    </tr>\n",
       "    <tr>\n",
       "      <th>datetime</th>\n",
       "      <th>instrument</th>\n",
       "      <th></th>\n",
       "    </tr>\n",
       "  </thead>\n",
       "  <tbody>\n",
       "    <tr>\n",
       "      <th rowspan=\"11\" valign=\"top\">2021-05-10</th>\n",
       "      <th>SH600000</th>\n",
       "      <td>0.006965</td>\n",
       "    </tr>\n",
       "    <tr>\n",
       "      <th>SH600004</th>\n",
       "      <td>0.003407</td>\n",
       "    </tr>\n",
       "    <tr>\n",
       "      <th>SH600009</th>\n",
       "      <td>0.002862</td>\n",
       "    </tr>\n",
       "    <tr>\n",
       "      <th>SH600010</th>\n",
       "      <td>0.033520</td>\n",
       "    </tr>\n",
       "    <tr>\n",
       "      <th>SH600011</th>\n",
       "      <td>-0.007026</td>\n",
       "    </tr>\n",
       "    <tr>\n",
       "      <th>...</th>\n",
       "      <td>...</td>\n",
       "    </tr>\n",
       "    <tr>\n",
       "      <th>SZ300498</th>\n",
       "      <td>0.013778</td>\n",
       "    </tr>\n",
       "    <tr>\n",
       "      <th>SZ300529</th>\n",
       "      <td>0.000210</td>\n",
       "    </tr>\n",
       "    <tr>\n",
       "      <th>SZ300601</th>\n",
       "      <td>0.018535</td>\n",
       "    </tr>\n",
       "    <tr>\n",
       "      <th>SZ300628</th>\n",
       "      <td>0.083596</td>\n",
       "    </tr>\n",
       "    <tr>\n",
       "      <th>SZ300676</th>\n",
       "      <td>0.011523</td>\n",
       "    </tr>\n",
       "  </tbody>\n",
       "</table>\n",
       "<p>293 rows × 1 columns</p>\n",
       "</div>"
      ],
      "text/plain": [
       "                         LABEL0\n",
       "datetime   instrument          \n",
       "2021-05-10 SH600000    0.006965\n",
       "           SH600004    0.003407\n",
       "           SH600009    0.002862\n",
       "           SH600010    0.033520\n",
       "           SH600011   -0.007026\n",
       "...                         ...\n",
       "           SZ300498    0.013778\n",
       "           SZ300529    0.000210\n",
       "           SZ300601    0.018535\n",
       "           SZ300628    0.083596\n",
       "           SZ300676    0.011523\n",
       "\n",
       "[293 rows x 1 columns]"
      ]
     },
     "execution_count": 7,
     "metadata": {},
     "output_type": "execute_result"
    }
   ],
   "source": [
    "h.fetch(col_set=\"label\").loc['2021-05-10', :]"
   ]
  },
  {
   "cell_type": "code",
   "execution_count": 16,
   "id": "3f3a691a-ee4b-4df8-a9d6-029671244471",
   "metadata": {},
   "outputs": [
    {
     "data": {
      "text/plain": [
       "11"
      ]
     },
     "execution_count": 16,
     "metadata": {},
     "output_type": "execute_result"
    }
   ],
   "source": [
    "import numpy as np\n",
    "import pandas as pd\n",
    "np.maximum(int(110 * 0.1), 1)"
   ]
  },
  {
   "cell_type": "code",
   "execution_count": null,
   "id": "7b90793a-adf2-4302-88f1-0c8037a8cb9a",
   "metadata": {},
   "outputs": [],
   "source": []
  }
 ],
 "metadata": {
  "kernelspec": {
   "display_name": "Python 3",
   "language": "python",
   "name": "python3"
  },
  "language_info": {
   "codemirror_mode": {
    "name": "ipython",
    "version": 3
   },
   "file_extension": ".py",
   "mimetype": "text/x-python",
   "name": "python",
   "nbconvert_exporter": "python",
   "pygments_lexer": "ipython3",
   "version": "3.7.10"
  }
 },
 "nbformat": 4,
 "nbformat_minor": 5
}

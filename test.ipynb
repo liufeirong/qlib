{
 "cells": [
  {
   "cell_type": "code",
   "execution_count": 1,
   "id": "5de49941",
   "metadata": {},
   "outputs": [],
   "source": [
    "import pandas as pd\n",
    "import numpy as np\n",
    "def get_group_columns(df: pd.DataFrame, group: str):\n",
    "    \"\"\"\n",
    "    get a group of columns from multi-index columns DataFrame\n",
    "\n",
    "    Parameters\n",
    "    ----------\n",
    "    df : pd.DataFrame\n",
    "        with multi of columns.\n",
    "    group : str\n",
    "        the name of the feature group, i.e. the first level value of the group index.\n",
    "    \"\"\"\n",
    "    if group is None:\n",
    "        return df.columns\n",
    "    else:\n",
    "        return df.columns[df.columns.get_loc(group)]"
   ]
  },
  {
   "cell_type": "code",
   "execution_count": 2,
   "id": "5c5c36f5",
   "metadata": {},
   "outputs": [],
   "source": [
    "alphabet = np.array(list('abcdefg'))\n",
    "digits = np.array(list(range(0,10)))"
   ]
  },
  {
   "cell_type": "code",
   "execution_count": 3,
   "id": "341cbf4a",
   "metadata": {},
   "outputs": [],
   "source": [
    "avalue = alphabet[np.random.randint(0,len(alphabet),100)]\n",
    "dvalue = digits[np.random.randint(0,len(digits),100)]\n",
    "value = np.random.normal(0, 1, 100)"
   ]
  },
  {
   "cell_type": "code",
   "execution_count": 4,
   "id": "33413b35",
   "metadata": {},
   "outputs": [],
   "source": [
    "df = pd.DataFrame({'a':avalue,'d':dvalue,'v':value}).set_index(['a','d'])"
   ]
  },
  {
   "cell_type": "code",
   "execution_count": 5,
   "id": "3d35403e",
   "metadata": {},
   "outputs": [
    {
     "data": {
      "text/plain": [
       "'v'"
      ]
     },
     "execution_count": 5,
     "metadata": {},
     "output_type": "execute_result"
    }
   ],
   "source": [
    "get_group_columns(df,'v')"
   ]
  },
  {
   "cell_type": "code",
   "execution_count": 6,
   "id": "3f8a9aea",
   "metadata": {},
   "outputs": [
    {
     "data": {
      "text/html": [
       "<div>\n",
       "<style scoped>\n",
       "    .dataframe tbody tr th:only-of-type {\n",
       "        vertical-align: middle;\n",
       "    }\n",
       "\n",
       "    .dataframe tbody tr th {\n",
       "        vertical-align: top;\n",
       "    }\n",
       "\n",
       "    .dataframe thead th {\n",
       "        text-align: right;\n",
       "    }\n",
       "</style>\n",
       "<table border=\"1\" class=\"dataframe\">\n",
       "  <thead>\n",
       "    <tr style=\"text-align: right;\">\n",
       "      <th></th>\n",
       "      <th></th>\n",
       "      <th>v</th>\n",
       "    </tr>\n",
       "    <tr>\n",
       "      <th>a</th>\n",
       "      <th>d</th>\n",
       "      <th></th>\n",
       "    </tr>\n",
       "  </thead>\n",
       "  <tbody>\n",
       "    <tr>\n",
       "      <th>d</th>\n",
       "      <th>6</th>\n",
       "      <td>-0.037356</td>\n",
       "    </tr>\n",
       "    <tr>\n",
       "      <th>b</th>\n",
       "      <th>9</th>\n",
       "      <td>-0.367281</td>\n",
       "    </tr>\n",
       "    <tr>\n",
       "      <th>g</th>\n",
       "      <th>3</th>\n",
       "      <td>-0.745930</td>\n",
       "    </tr>\n",
       "    <tr>\n",
       "      <th>d</th>\n",
       "      <th>3</th>\n",
       "      <td>-1.428008</td>\n",
       "    </tr>\n",
       "    <tr>\n",
       "      <th>a</th>\n",
       "      <th>0</th>\n",
       "      <td>0.530183</td>\n",
       "    </tr>\n",
       "    <tr>\n",
       "      <th>...</th>\n",
       "      <th>...</th>\n",
       "      <td>...</td>\n",
       "    </tr>\n",
       "    <tr>\n",
       "      <th>d</th>\n",
       "      <th>6</th>\n",
       "      <td>-1.331729</td>\n",
       "    </tr>\n",
       "    <tr>\n",
       "      <th>c</th>\n",
       "      <th>2</th>\n",
       "      <td>0.276174</td>\n",
       "    </tr>\n",
       "    <tr>\n",
       "      <th>d</th>\n",
       "      <th>8</th>\n",
       "      <td>1.770959</td>\n",
       "    </tr>\n",
       "    <tr>\n",
       "      <th>f</th>\n",
       "      <th>3</th>\n",
       "      <td>-1.375453</td>\n",
       "    </tr>\n",
       "    <tr>\n",
       "      <th>e</th>\n",
       "      <th>4</th>\n",
       "      <td>0.998609</td>\n",
       "    </tr>\n",
       "  </tbody>\n",
       "</table>\n",
       "<p>100 rows × 1 columns</p>\n",
       "</div>"
      ],
      "text/plain": [
       "            v\n",
       "a d          \n",
       "d 6 -0.037356\n",
       "b 9 -0.367281\n",
       "g 3 -0.745930\n",
       "d 3 -1.428008\n",
       "a 0  0.530183\n",
       "..        ...\n",
       "d 6 -1.331729\n",
       "c 2  0.276174\n",
       "d 8  1.770959\n",
       "f 3 -1.375453\n",
       "e 4  0.998609\n",
       "\n",
       "[100 rows x 1 columns]"
      ]
     },
     "execution_count": 6,
     "metadata": {},
     "output_type": "execute_result"
    }
   ],
   "source": [
    "df"
   ]
  },
  {
   "cell_type": "code",
   "execution_count": 7,
   "id": "a477bdaf",
   "metadata": {},
   "outputs": [],
   "source": [
    "mask = np.random.rand(100)<0.1"
   ]
  },
  {
   "cell_type": "code",
   "execution_count": 8,
   "id": "100ffd41",
   "metadata": {},
   "outputs": [],
   "source": [
    "df['v'][mask] = np.nan"
   ]
  },
  {
   "cell_type": "code",
   "execution_count": 9,
   "id": "4d9a1bd7",
   "metadata": {},
   "outputs": [
    {
     "data": {
      "text/plain": [
       "'v'"
      ]
     },
     "execution_count": 9,
     "metadata": {},
     "output_type": "execute_result"
    }
   ],
   "source": [
    "get_group_columns(df, 'v')"
   ]
  },
  {
   "cell_type": "code",
   "execution_count": 10,
   "id": "5a06a267",
   "metadata": {},
   "outputs": [
    {
     "data": {
      "text/html": [
       "<div>\n",
       "<style scoped>\n",
       "    .dataframe tbody tr th:only-of-type {\n",
       "        vertical-align: middle;\n",
       "    }\n",
       "\n",
       "    .dataframe tbody tr th {\n",
       "        vertical-align: top;\n",
       "    }\n",
       "\n",
       "    .dataframe thead th {\n",
       "        text-align: right;\n",
       "    }\n",
       "</style>\n",
       "<table border=\"1\" class=\"dataframe\">\n",
       "  <thead>\n",
       "    <tr style=\"text-align: right;\">\n",
       "      <th></th>\n",
       "      <th>v</th>\n",
       "    </tr>\n",
       "    <tr>\n",
       "      <th>d</th>\n",
       "      <th></th>\n",
       "    </tr>\n",
       "  </thead>\n",
       "  <tbody>\n",
       "    <tr>\n",
       "      <th>1</th>\n",
       "      <td>0.724889</td>\n",
       "    </tr>\n",
       "    <tr>\n",
       "      <th>2</th>\n",
       "      <td>0.366817</td>\n",
       "    </tr>\n",
       "    <tr>\n",
       "      <th>0</th>\n",
       "      <td>NaN</td>\n",
       "    </tr>\n",
       "    <tr>\n",
       "      <th>6</th>\n",
       "      <td>0.146869</td>\n",
       "    </tr>\n",
       "    <tr>\n",
       "      <th>2</th>\n",
       "      <td>-1.003600</td>\n",
       "    </tr>\n",
       "    <tr>\n",
       "      <th>6</th>\n",
       "      <td>-0.075696</td>\n",
       "    </tr>\n",
       "    <tr>\n",
       "      <th>9</th>\n",
       "      <td>0.283460</td>\n",
       "    </tr>\n",
       "    <tr>\n",
       "      <th>6</th>\n",
       "      <td>0.285292</td>\n",
       "    </tr>\n",
       "    <tr>\n",
       "      <th>5</th>\n",
       "      <td>1.172986</td>\n",
       "    </tr>\n",
       "    <tr>\n",
       "      <th>7</th>\n",
       "      <td>NaN</td>\n",
       "    </tr>\n",
       "    <tr>\n",
       "      <th>4</th>\n",
       "      <td>NaN</td>\n",
       "    </tr>\n",
       "  </tbody>\n",
       "</table>\n",
       "</div>"
      ],
      "text/plain": [
       "          v\n",
       "d          \n",
       "1  0.724889\n",
       "2  0.366817\n",
       "0       NaN\n",
       "6  0.146869\n",
       "2 -1.003600\n",
       "6 -0.075696\n",
       "9  0.283460\n",
       "6  0.285292\n",
       "5  1.172986\n",
       "7       NaN\n",
       "4       NaN"
      ]
     },
     "execution_count": 10,
     "metadata": {},
     "output_type": "execute_result"
    }
   ],
   "source": [
    "df.loc(axis=0)['e']"
   ]
  },
  {
   "cell_type": "code",
   "execution_count": 57,
   "id": "b2807683-b85c-45cf-93a9-739ddb4456ed",
   "metadata": {},
   "outputs": [
    {
     "name": "stderr",
     "output_type": "stream",
     "text": [
      "[24361:MainThread](2021-05-14 21:11:13,188) INFO - qlib.Initialization - [config.py:275] - default_conf: client.\n",
      "[24361:MainThread](2021-05-14 21:11:13,195) WARNING - qlib.Initialization - [config.py:291] - redis connection failed(host=127.0.0.1 port=6379), cache will not be used!\n",
      "[24361:MainThread](2021-05-14 21:11:13,745) INFO - qlib.Initialization - [__init__.py:46] - qlib successfully initialized based on client settings.\n",
      "[24361:MainThread](2021-05-14 21:11:13,746) INFO - qlib.Initialization - [__init__.py:47] - data_path=/Users/harry/.qlib/qlib_data/cn_data\n"
     ]
    }
   ],
   "source": [
    "import qlib\n",
    "from qlib.config import REG_CN\n",
    "provider_uri = \"~/.qlib/qlib_data/cn_data\"  # target_dir\n",
    "qlib.init(provider_uri=provider_uri, region=REG_CN)"
   ]
  },
  {
   "cell_type": "code",
   "execution_count": null,
   "id": "e7120a75-3a7c-49b9-9373-bcb3d3159109",
   "metadata": {},
   "outputs": [],
   "source": []
  }
 ],
 "metadata": {
  "kernelspec": {
   "display_name": "Python 3",
   "language": "python",
   "name": "python3"
  },
  "language_info": {
   "codemirror_mode": {
    "name": "ipython",
    "version": 3
   },
   "file_extension": ".py",
   "mimetype": "text/x-python",
   "name": "python",
   "nbconvert_exporter": "python",
   "pygments_lexer": "ipython3",
   "version": "3.7.10"
  }
 },
 "nbformat": 4,
 "nbformat_minor": 5
}

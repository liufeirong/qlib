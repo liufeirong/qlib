{
 "cells": [
  {
   "cell_type": "code",
   "execution_count": 7,
   "id": "6424a8bc-4c3b-4d21-b2e2-9b430a3d283d",
   "metadata": {},
   "outputs": [],
   "source": [
    "import pandas as pd\n",
    "import numpy as np\n",
    "def get_group_columns(df: pd.DataFrame, group: str):\n",
    "    \"\"\"\n",
    "    get a group of columns from multi-index columns DataFrame\n",
    "\n",
    "    Parameters\n",
    "    ----------\n",
    "    df : pd.DataFrame\n",
    "        with multi of columns.\n",
    "    group : str\n",
    "        the name of the feature group, i.e. the first level value of the group index.\n",
    "    \"\"\"\n",
    "    if group is None:\n",
    "        return df.columns\n",
    "    else:\n",
    "        return df.columns[df.columns.get_loc(group)]"
   ]
  },
  {
   "cell_type": "code",
   "execution_count": 26,
   "id": "e4b0304a-9b36-4d10-bad4-20f5c6bec372",
   "metadata": {},
   "outputs": [],
   "source": [
    "alphabet = np.array(list('abcdefg'))\n",
    "digits = np.array(list(range(0,10)))"
   ]
  },
  {
   "cell_type": "code",
   "execution_count": 27,
   "id": "646147be-9149-4aee-9848-481eec5ff541",
   "metadata": {},
   "outputs": [],
   "source": [
    "avalue = alphabet[np.random.randint(0,len(alphabet),100)]\n",
    "dvalue = digits[np.random.randint(0,len(digits),100)]\n",
    "value = np.random.normal(0, 1, 100)"
   ]
  },
  {
   "cell_type": "code",
   "execution_count": 33,
   "id": "b85c1726-a0ad-447f-933f-396ff4f5c111",
   "metadata": {},
   "outputs": [],
   "source": [
    "df = pd.DataFrame({'a':avalue,'d':dvalue,'v':value}).set_index(['a','d'])"
   ]
  },
  {
   "cell_type": "code",
   "execution_count": 34,
   "id": "f48eab09-b436-4a19-a208-311776302da8",
   "metadata": {},
   "outputs": [
    {
     "data": {
      "text/plain": [
       "'v'"
      ]
     },
     "execution_count": 34,
     "metadata": {},
     "output_type": "execute_result"
    }
   ],
   "source": [
    "get_group_columns(df,'v')"
   ]
  },
  {
   "cell_type": "code",
   "execution_count": 35,
   "id": "60038806-8318-4399-bbbe-778ce0a608c5",
   "metadata": {},
   "outputs": [
    {
     "data": {
      "text/html": [
       "<div>\n",
       "<style scoped>\n",
       "    .dataframe tbody tr th:only-of-type {\n",
       "        vertical-align: middle;\n",
       "    }\n",
       "\n",
       "    .dataframe tbody tr th {\n",
       "        vertical-align: top;\n",
       "    }\n",
       "\n",
       "    .dataframe thead th {\n",
       "        text-align: right;\n",
       "    }\n",
       "</style>\n",
       "<table border=\"1\" class=\"dataframe\">\n",
       "  <thead>\n",
       "    <tr style=\"text-align: right;\">\n",
       "      <th></th>\n",
       "      <th></th>\n",
       "      <th>v</th>\n",
       "    </tr>\n",
       "    <tr>\n",
       "      <th>a</th>\n",
       "      <th>d</th>\n",
       "      <th></th>\n",
       "    </tr>\n",
       "  </thead>\n",
       "  <tbody>\n",
       "    <tr>\n",
       "      <th>b</th>\n",
       "      <th>4</th>\n",
       "      <td>-0.326458</td>\n",
       "    </tr>\n",
       "    <tr>\n",
       "      <th>e</th>\n",
       "      <th>8</th>\n",
       "      <td>1.416109</td>\n",
       "    </tr>\n",
       "    <tr>\n",
       "      <th>g</th>\n",
       "      <th>6</th>\n",
       "      <td>-2.155091</td>\n",
       "    </tr>\n",
       "    <tr>\n",
       "      <th>b</th>\n",
       "      <th>2</th>\n",
       "      <td>0.207414</td>\n",
       "    </tr>\n",
       "    <tr>\n",
       "      <th>e</th>\n",
       "      <th>8</th>\n",
       "      <td>0.097417</td>\n",
       "    </tr>\n",
       "    <tr>\n",
       "      <th>...</th>\n",
       "      <th>...</th>\n",
       "      <td>...</td>\n",
       "    </tr>\n",
       "    <tr>\n",
       "      <th rowspan=\"3\" valign=\"top\">d</th>\n",
       "      <th>6</th>\n",
       "      <td>1.598065</td>\n",
       "    </tr>\n",
       "    <tr>\n",
       "      <th>0</th>\n",
       "      <td>0.892484</td>\n",
       "    </tr>\n",
       "    <tr>\n",
       "      <th>6</th>\n",
       "      <td>-0.520886</td>\n",
       "    </tr>\n",
       "    <tr>\n",
       "      <th>f</th>\n",
       "      <th>9</th>\n",
       "      <td>-0.966918</td>\n",
       "    </tr>\n",
       "    <tr>\n",
       "      <th>c</th>\n",
       "      <th>2</th>\n",
       "      <td>-0.067813</td>\n",
       "    </tr>\n",
       "  </tbody>\n",
       "</table>\n",
       "<p>100 rows × 1 columns</p>\n",
       "</div>"
      ],
      "text/plain": [
       "            v\n",
       "a d          \n",
       "b 4 -0.326458\n",
       "e 8  1.416109\n",
       "g 6 -2.155091\n",
       "b 2  0.207414\n",
       "e 8  0.097417\n",
       "..        ...\n",
       "d 6  1.598065\n",
       "  0  0.892484\n",
       "  6 -0.520886\n",
       "f 9 -0.966918\n",
       "c 2 -0.067813\n",
       "\n",
       "[100 rows x 1 columns]"
      ]
     },
     "execution_count": 35,
     "metadata": {},
     "output_type": "execute_result"
    }
   ],
   "source": [
    "df"
   ]
  },
  {
   "cell_type": "code",
   "execution_count": null,
   "id": "b9d2d1cb-4c6a-4533-9933-e2bf57011107",
   "metadata": {},
   "outputs": [],
   "source": []
  }
 ],
 "metadata": {
  "kernelspec": {
   "display_name": "Python 3",
   "language": "python",
   "name": "python3"
  },
  "language_info": {
   "codemirror_mode": {
    "name": "ipython",
    "version": 3
   },
   "file_extension": ".py",
   "mimetype": "text/x-python",
   "name": "python",
   "nbconvert_exporter": "python",
   "pygments_lexer": "ipython3",
   "version": "3.7.10"
  }
 },
 "nbformat": 4,
 "nbformat_minor": 5
}
